{
 "cells": [
  {
   "cell_type": "code",
   "execution_count": 1,
   "metadata": {},
   "outputs": [],
   "source": [
    "path = '/home/drrndrrnprn/nlp/ABST/datasets/semeval-pengb/analyzed'"
   ]
  },
  {
   "cell_type": "code",
   "execution_count": 2,
   "metadata": {},
   "outputs": [],
   "source": [
    "def concat_jsonfiles(path_list):\n",
    "    json_file = []\n",
    "    for path in path_list:\n",
    "        print(path)\n",
    "        with open(path, 'r') as f:\n",
    "            f = json.load(f)\n",
    "            json_file += f\n",
    "    return json_file\n"
   ]
  },
  {
   "cell_type": "code",
   "execution_count": 11,
   "metadata": {},
   "outputs": [
    {
     "name": "stdout",
     "output_type": "stream",
     "text": [
      "/home/drrndrrnprn/nlp/ABST/datasets/semeval-pengb/analyzed/concat.json\n",
      "/home/drrndrrnprn/nlp/ABST/datasets/semeval-pengb/analyzed/15dev_convert.json\n",
      "/home/drrndrrnprn/nlp/ABST/datasets/semeval-pengb/analyzed/15test_convert.json\n",
      "/home/drrndrrnprn/nlp/ABST/datasets/semeval-pengb/analyzed/16dev_convert.json\n",
      "/home/drrndrrnprn/nlp/ABST/datasets/semeval-pengb/analyzed/14dev_convert.json\n",
      "/home/drrndrrnprn/nlp/ABST/datasets/semeval-pengb/analyzed/14train_convert.json\n",
      "/home/drrndrrnprn/nlp/ABST/datasets/semeval-pengb/analyzed/14test_convert.json\n",
      "/home/drrndrrnprn/nlp/ABST/datasets/semeval-pengb/analyzed/16train_convert.json\n",
      "/home/drrndrrnprn/nlp/ABST/datasets/semeval-pengb/analyzed/16test_convert.json\n",
      "/home/drrndrrnprn/nlp/ABST/datasets/semeval-pengb/analyzed/15train_convert.json\n",
      "9072\n"
     ]
    }
   ],
   "source": [
    "# all data\n",
    "import json\n",
    "import os\n",
    "\n",
    "files = os.listdir(path)\n",
    "files_file = [f for f in files if os.path.isfile(os.path.join(path, f))]\n",
    "files_json = [f_n for f_n in files_file if os.path.splitext(f_n)[1] == '.json']\n",
    "file_list = [path+'/'+p for p in files_json]\n",
    "\n",
    "json_file = concat_jsonfiles(file_list)\n",
    "print(len(json_file))\n",
    "with open(path+'/concat.json', 'w') as f:\n",
    "    json.dump(json_file, f, sort_keys=False, indent=4)"
   ]
  }
 ],
 "metadata": {
  "interpreter": {
   "hash": "92bf3dd1822ab769049dab75bec05253e8a128fd4ef9b14b4febdd1dbe95b798"
  },
  "kernelspec": {
   "display_name": "Python 3.8.11 64-bit ('bartabsa': conda)",
   "name": "python3"
  },
  "language_info": {
   "codemirror_mode": {
    "name": "ipython",
    "version": 3
   },
   "file_extension": ".py",
   "mimetype": "text/x-python",
   "name": "python",
   "nbconvert_exporter": "python",
   "pygments_lexer": "ipython3",
   "version": "3.8.11"
  },
  "orig_nbformat": 4
 },
 "nbformat": 4,
 "nbformat_minor": 2
}
