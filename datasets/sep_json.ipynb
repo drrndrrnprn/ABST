{
 "cells": [
  {
   "cell_type": "code",
   "execution_count": 2,
   "metadata": {},
   "outputs": [],
   "source": [
    "import argparse\n",
    "import os\n",
    "import json\n",
    "\n",
    "input_path = '/home/drrndrrnprn/nlp/ABST/datasets/semeval-pengb/analyzed/concat.json'\n",
    "output_dir = os.path.dirname(input_path)\n",
    "\n",
    "size_train, size_dev, size_test = 3174, 908, 454\n"
   ]
  },
  {
   "cell_type": "code",
   "execution_count": 6,
   "metadata": {},
   "outputs": [],
   "source": [
    "with open(input_path, \"r\") as f:\n",
    "    json_file = json.load(f)\n",
    "\n",
    "train = json_file[:size_train]\n",
    "dev = json_file[size_train:size_train+size_dev]\n",
    "test = json_file[size_train+size_dev:size_train+size_dev+size_test]\n",
    "\n",
    "for d,n in zip([train,dev,test], ['train','dev','test']):\n",
    "    output_path = output_dir + \"/\" + n + \".json\"\n",
    "    with open(output_path, 'w') as f:\n",
    "        json.dump(d, f, sort_keys=False, indent=4)\n"
   ]
  }
 ],
 "metadata": {
  "interpreter": {
   "hash": "916dbcbb3f70747c44a77c7bcd40155683ae19c65e1c03b4aa3499c5328201f1"
  },
  "kernelspec": {
   "display_name": "Python 3.8.10 64-bit",
   "language": "python",
   "name": "python3"
  },
  "language_info": {
   "codemirror_mode": {
    "name": "ipython",
    "version": 3
   },
   "file_extension": ".py",
   "mimetype": "text/x-python",
   "name": "python",
   "nbconvert_exporter": "python",
   "pygments_lexer": "ipython3",
   "version": "3.8.10"
  },
  "orig_nbformat": 4
 },
 "nbformat": 4,
 "nbformat_minor": 2
}
