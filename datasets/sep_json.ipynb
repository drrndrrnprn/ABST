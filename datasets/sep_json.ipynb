{
 "cells": [
  {
   "cell_type": "code",
   "execution_count": 3,
   "metadata": {},
   "outputs": [],
   "source": [
    "import argparse\n",
    "import os\n",
    "import json\n",
    "\n",
    "input_path = '/home/drrndrrnprn/nlp/ABST/datasets/semeval-pengb/analyzed/concat.json'\n",
    "output_dir = os.path.dirname(input_path)\n",
    "\n",
    "size_train, size_dev, size_test = 1910, 600, 600\n"
   ]
  },
  {
   "cell_type": "code",
   "execution_count": 4,
   "metadata": {},
   "outputs": [],
   "source": [
    "with open(input_path, \"r\") as f:\n",
    "    json_file = json.load(f)\n",
    "\n",
    "train = json_file[:size_train]\n",
    "dev = json_file[size_train:size_train+size_dev]\n",
    "test = json_file[size_train+size_dev:size_train+size_dev+size_test]"
   ]
  },
  {
   "cell_type": "code",
   "execution_count": 5,
   "metadata": {},
   "outputs": [],
   "source": [
    "def extract_aspect(data):\n",
    "    raw_texts = list()\n",
    "    aspect_info = list()\n",
    "    for dic in data:\n",
    "        raw_words = dic['raw_words']\n",
    "        aspects = list()\n",
    "        for a, o in zip(dic['aspects'], dic['opinions']):\n",
    "            aspect = list()\n",
    "            aspect.append(a['from'])\n",
    "            aspect.append(a['to'])\n",
    "            aspect.append(o['from'])\n",
    "            aspect.append(o['to'])\n",
    "            aspect.append(a['polarity'])        \n",
    "            aspects.append(aspect)\n",
    "        raw_texts.append(raw_words)\n",
    "        aspect_info.append(aspects)\n",
    "    \n",
    "    return raw_texts, aspect_info"
   ]
  },
  {
   "cell_type": "code",
   "execution_count": 6,
   "metadata": {},
   "outputs": [],
   "source": [
    "def output_file(filename, text, aspect):\n",
    "    output_path = filename + '.txt'\n",
    "    with open(output_path, 'w') as f:\n",
    "        f.write('\\n'.join(text))\n",
    "    \n",
    "    output_path = filename + '_asp.txt'\n",
    "    with open(output_path, 'w') as f:\n",
    "        for line in aspect:\n",
    "            line = [','.join(map(str,a)) for a in line]\n",
    "            f.write('\\t'.join(line))\n",
    "            f.write('\\n')"
   ]
  },
  {
   "cell_type": "code",
   "execution_count": 9,
   "metadata": {},
   "outputs": [],
   "source": [
    "#output text\n",
    "for data, sep in zip([train, dev, test],['train','dev','test']):\n",
    "    st, sa = extract_aspect(data)\n",
    "    output_path = output_dir + '/' + sep\n",
    "    output_file(output_path, st, sa)"
   ]
  }
 ],
 "metadata": {
  "interpreter": {
   "hash": "916dbcbb3f70747c44a77c7bcd40155683ae19c65e1c03b4aa3499c5328201f1"
  },
  "kernelspec": {
   "display_name": "Python 3.8.10 64-bit",
   "language": "python",
   "name": "python3"
  },
  "language_info": {
   "codemirror_mode": {
    "name": "ipython",
    "version": 3
   },
   "file_extension": ".py",
   "mimetype": "text/x-python",
   "name": "python",
   "nbconvert_exporter": "python",
   "pygments_lexer": "ipython3",
   "version": "3.8.10"
  },
  "orig_nbformat": 4
 },
 "nbformat": 4,
 "nbformat_minor": 2
}
