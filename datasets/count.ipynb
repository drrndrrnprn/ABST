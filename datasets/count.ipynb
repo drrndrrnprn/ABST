{
 "cells": [
  {
   "cell_type": "code",
   "execution_count": 19,
   "metadata": {},
   "outputs": [
    {
     "name": "stdout",
     "output_type": "stream",
     "text": [
      "9072\n"
     ]
    }
   ],
   "source": [
    "import json\n",
    "import os\n",
    "path = '/home/drrndrrnprn/nlp/ABST/datasets/semeval-pengb/analyzed/concat.json'\n",
    "json_file = []\n",
    "with open(path, 'r') as f:\n",
    "    json_file += json.load(f)\n",
    "print(len(json_file))"
   ]
  },
  {
   "cell_type": "code",
   "execution_count": 26,
   "metadata": {},
   "outputs": [
    {
     "name": "stdout",
     "output_type": "stream",
     "text": [
      "text size: 454,\n",
      " triplet size: 757,\n",
      " triplet size by ts: [255, 127, 47, 21, 2, 1, 1]\n"
     ]
    }
   ],
   "source": [
    "aos_path = \"/home/drrndrrnprn/nlp/ABST/datasets/semeval-pengb/analyzed/test_asp.txt\"\n",
    "raw_aos_list = []\n",
    "with open(aos_path, \"r\", encoding=\"utf-8\") as f:\n",
    "    for aos_line in f:\n",
    "        new_aos_line = [aos.split(',') for aos in aos_line.strip(\"\\n\").split('\\t')]\n",
    "        raw_aos_list.append(new_aos_line)\n",
    "size_text = len(raw_aos_list)\n",
    "size_aos = [len(line) for line in raw_aos_list]\n",
    "\n",
    "dic_size_aos = {}\n",
    "for s in range(1,max(size_aos)+1):\n",
    "    list_idx_aos = []\n",
    "    for i, size_l_aos in enumerate(size_aos):\n",
    "        if size_l_aos == s:\n",
    "            list_idx_aos.append(i)\n",
    "    dic_size_aos[s] = list_idx_aos\n",
    "count_aoses = [len(s) for s in dic_size_aos.values()]\n",
    "\n",
    "all_size_aos = sum(size_aos)\n",
    "print(f\"text size: {size_text},\\n triplet size: {all_size_aos},\\n triplet size by ts: {count_aoses}\")\n",
    "count_aos_path = os.path.dirname(aos_path) + '/test_e_index.json'\n",
    "with open(count_aos_path, \"w\") as f:\n",
    "    json.dump(dic_size_aos, f, indent = 4)"
   ]
  },
  {
   "cell_type": "markdown",
   "metadata": {},
   "source": [
    "concat = 4536\n",
    "train = text size: 3174, triplet size: 5702\n",
    "dev = text size: 908, triplet size: 1444\n",
    "test = text size: 454, triplet size: 757, {1:255, 2:127, 3:47, 4:21, 5:2, 6:1, 7:1}\n"
   ]
  }
 ],
 "metadata": {
  "interpreter": {
   "hash": "8c59db5e11f520432d908a6a2f5ee8108ef2630f334c63593c19718c80b51674"
  },
  "kernelspec": {
   "display_name": "Python 3.7.0 64-bit ('anaconda3-5.3.1': pyenv)",
   "language": "python",
   "name": "python3"
  },
  "language_info": {
   "codemirror_mode": {
    "name": "ipython",
    "version": 3
   },
   "file_extension": ".py",
   "mimetype": "text/x-python",
   "name": "python",
   "nbconvert_exporter": "python",
   "pygments_lexer": "ipython3",
   "version": "3.7.0"
  },
  "orig_nbformat": 4
 },
 "nbformat": 4,
 "nbformat_minor": 2
}
