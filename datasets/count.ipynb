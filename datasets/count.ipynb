{
 "cells": [
  {
   "cell_type": "code",
   "execution_count": 1,
   "metadata": {},
   "outputs": [
    {
     "name": "stdout",
     "output_type": "stream",
     "text": [
      "3110\n"
     ]
    }
   ],
   "source": [
    "import json\n",
    "import os\n",
    "path = '/home/drrndrrnprn/nlp/ABST/datasets/semeval-pengb/analyzed/concat.json'\n",
    "json_file = []\n",
    "with open(path, 'r') as f:\n",
    "    json_file += json.load(f)\n",
    "print(len(json_file))"
   ]
  },
  {
   "cell_type": "code",
   "execution_count": 5,
   "metadata": {},
   "outputs": [
    {
     "name": "stdout",
     "output_type": "stream",
     "text": [
      "text size: 600,\n",
      " triplet size: 1080,\n",
      " triplet size by ts: [292, 198, 69, 27, 10, 3, 0, 0, 1]\n"
     ]
    }
   ],
   "source": [
    "aos_path = \"/home/drrndrrnprn/nlp/ABST/datasets/semeval-pengb/analyzed/test_asp.txt\"\n",
    "raw_aos_list = []\n",
    "with open(aos_path, \"r\", encoding=\"utf-8\") as f:\n",
    "    for aos_line in f:\n",
    "        new_aos_line = [aos.split(',') for aos in aos_line.strip(\"\\n\").split('\\t')]\n",
    "        raw_aos_list.append(new_aos_line)\n",
    "size_text = len(raw_aos_list)\n",
    "size_aos = [len(line) for line in raw_aos_list]\n",
    "\n",
    "dic_size_aos = {}\n",
    "for s in range(1,max(size_aos)+1):\n",
    "    list_idx_aos = []\n",
    "    for i, size_l_aos in enumerate(size_aos):\n",
    "        if size_l_aos == s:\n",
    "            list_idx_aos.append(i)\n",
    "    dic_size_aos[s] = list_idx_aos\n",
    "count_aoses = [len(s) for s in dic_size_aos.values()]\n",
    "\n",
    "all_size_aos = sum(size_aos)\n",
    "print(f\"text size: {size_text},\\n triplet size: {all_size_aos},\\n triplet size by ts: {count_aoses}\")\n",
    "count_aos_path = os.path.dirname(aos_path) + '/test_e_index.json'\n",
    "with open(count_aos_path, \"w\") as f:\n",
    "    json.dump(dic_size_aos, f, indent = 4)"
   ]
  },
  {
   "cell_type": "markdown",
   "metadata": {},
   "source": [
    "concat = 3110\n",
    "train = text size: 1910, triplet size: 3431, [973, 576, 223, 92, 27, 13, 4, 0, 0, 0, 0, 0, 0, 2]\n",
    "dev = text size: 600, triplet size: 1055, [326, 165, 58, 36, 10, 4, 1]\n",
    "test = text size: 600, triplet size: 1080, {1:292, 2:198, 3:69, 4:27, 5:10, 6:3, 7:0, 8:0, 9:1}\n"
   ]
  }
 ],
 "metadata": {
  "interpreter": {
   "hash": "8c59db5e11f520432d908a6a2f5ee8108ef2630f334c63593c19718c80b51674"
  },
  "kernelspec": {
   "display_name": "Python 3.7.0 64-bit ('anaconda3-5.3.1': pyenv)",
   "language": "python",
   "name": "python3"
  },
  "language_info": {
   "codemirror_mode": {
    "name": "ipython",
    "version": 3
   },
   "file_extension": ".py",
   "mimetype": "text/x-python",
   "name": "python",
   "nbconvert_exporter": "python",
   "pygments_lexer": "ipython3",
   "version": "3.7.0"
  },
  "orig_nbformat": 4
 },
 "nbformat": 4,
 "nbformat_minor": 2
}
