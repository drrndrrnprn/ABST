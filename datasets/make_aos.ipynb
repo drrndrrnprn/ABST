{
 "cells": [
  {
   "cell_type": "code",
   "execution_count": 9,
   "metadata": {},
   "outputs": [],
   "source": [
    "import os\n",
    "\n",
    "aos_path = \"/home/drrndrrnprn/nlp/ABST/datasets/semeval-pengb/analyzed/test_asp.txt\""
   ]
  },
  {
   "cell_type": "code",
   "execution_count": 10,
   "metadata": {},
   "outputs": [],
   "source": [
    "raw_aos_list = []\n",
    "with open(aos_path, \"r\", encoding=\"utf-8\") as f:\n",
    "    for aos_line in f:\n",
    "        new_aos_line = [aos.split(',') for aos in aos_line.strip(\"\\n\").split('\\t')]\n",
    "        raw_aos_list.append(new_aos_line)\n"
   ]
  },
  {
   "cell_type": "code",
   "execution_count": 20,
   "metadata": {},
   "outputs": [],
   "source": [
    "#reverse all polarity\n",
    "new_aos_list = []\n",
    "for aos_line in raw_aos_list:\n",
    "    new_aos_line = []\n",
    "    for aos in aos_line:\n",
    "        if aos[4] == 'POS':\n",
    "            aos[4] = 'NEG'\n",
    "        elif aos[4] == 'NEG':\n",
    "            aos[4] = 'POS'\n",
    "        new_aos_line.append(','.join(aos))\n",
    "    new_aos_list.append(new_aos_line)\n",
    "\n",
    "rev_aos_path = os.path.dirname(aos_path) + '/rev_test_asp.txt'\n",
    "with open(rev_aos_path, 'w') as f:\n",
    "    for line in new_aos_list:\n",
    "        f.write('\\t'.join(line))\n",
    "        f.write('\\n')"
   ]
  },
  {
   "cell_type": "code",
   "execution_count": 26,
   "metadata": {},
   "outputs": [],
   "source": [
    "#reverse first polarity\n",
    "new_aos_list = []\n",
    "for aos_llll in raw_aos_list:\n",
    "    aos_line = aos_llll.copy()\n",
    "    if aos_line[0][4] == 'POS':\n",
    "        aos_line[0][4] = 'NEG'\n",
    "    elif aos_line[0][4] == 'NEG':\n",
    "        aos_line[0][4] = 'POS'\n",
    "    new_aos_line = [','.join(aos) for aos in aos_line]\n",
    "    new_aos_list.append(new_aos_line)\n",
    "\n",
    "revf_aos_path = os.path.dirname(aos_path) + '/revf_test_asp.txt'\n",
    "with open(revf_aos_path, 'w') as f:\n",
    "    for line in new_aos_list:\n",
    "        f.write('\\t'.join(line))\n",
    "        f.write('\\n')"
   ]
  }
 ],
 "metadata": {
  "interpreter": {
   "hash": "8c59db5e11f520432d908a6a2f5ee8108ef2630f334c63593c19718c80b51674"
  },
  "kernelspec": {
   "display_name": "Python 3.7.0 64-bit ('anaconda3-5.3.1': pyenv)",
   "language": "python",
   "name": "python3"
  },
  "language_info": {
   "codemirror_mode": {
    "name": "ipython",
    "version": 3
   },
   "file_extension": ".py",
   "mimetype": "text/x-python",
   "name": "python",
   "nbconvert_exporter": "python",
   "pygments_lexer": "ipython3",
   "version": "3.7.0"
  },
  "orig_nbformat": 4
 },
 "nbformat": 4,
 "nbformat_minor": 2
}
